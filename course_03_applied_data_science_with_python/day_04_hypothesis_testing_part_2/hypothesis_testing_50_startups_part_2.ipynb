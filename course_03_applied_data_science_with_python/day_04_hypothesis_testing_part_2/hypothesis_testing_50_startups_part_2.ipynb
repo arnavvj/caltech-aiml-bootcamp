{
  "nbformat": 4,
  "nbformat_minor": 0,
  "metadata": {
    "colab": {
      "provenance": [],
      "collapsed_sections": [
        "djAtkJkH883X",
        "TJhafXthN2xr"
      ]
    },
    "kernelspec": {
      "name": "python3",
      "display_name": "Python 3"
    },
    "language_info": {
      "name": "python"
    }
  },
  "cells": [
    {
      "cell_type": "markdown",
      "source": [
        "# **IMPORT THE ESSENTIALS**"
      ],
      "metadata": {
        "id": "djAtkJkH883X"
      }
    },
    {
      "cell_type": "code",
      "execution_count": null,
      "metadata": {
        "id": "RnD6qUD4JxUV"
      },
      "outputs": [],
      "source": [
        "import pandas as pd\n",
        "import numpy as np"
      ]
    },
    {
      "cell_type": "code",
      "source": [
        "data=pd.read_csv('50_Startups.csv')"
      ],
      "metadata": {
        "id": "ap2diguIJ5fj"
      },
      "execution_count": null,
      "outputs": []
    },
    {
      "cell_type": "markdown",
      "source": [
        "# **NORMALITY TEST**\n",
        "\n",
        "This test is about identifying whether the given column is normally distributed or not"
      ],
      "metadata": {
        "id": "TJhafXthN2xr"
      }
    },
    {
      "cell_type": "code",
      "source": [
        "import seaborn as sns\n",
        "%matplotlib inline\n",
        "sns.distplot(data['R&D Spend'])"
      ],
      "metadata": {
        "colab": {
          "base_uri": "https://localhost:8080/",
          "height": 673
        },
        "id": "cbVYV2wxNsIc",
        "outputId": "8b93f97b-b85a-416d-ee65-d5dcd50441cd"
      },
      "execution_count": null,
      "outputs": [
        {
          "output_type": "stream",
          "name": "stderr",
          "text": [
            "<ipython-input-3-916d015516e2>:3: UserWarning: \n",
            "\n",
            "`distplot` is a deprecated function and will be removed in seaborn v0.14.0.\n",
            "\n",
            "Please adapt your code to use either `displot` (a figure-level function with\n",
            "similar flexibility) or `histplot` (an axes-level function for histograms).\n",
            "\n",
            "For a guide to updating your code to use the new functions, please see\n",
            "https://gist.github.com/mwaskom/de44147ed2974457ad6372750bbe5751\n",
            "\n",
            "  sns.distplot(data['R&D Spend'])\n"
          ]
        },
        {
          "output_type": "execute_result",
          "data": {
            "text/plain": [
              "<Axes: xlabel='R&D Spend', ylabel='Density'>"
            ]
          },
          "metadata": {},
          "execution_count": 3
        },
        {
          "output_type": "display_data",
          "data": {
            "text/plain": [
              "<Figure size 640x480 with 1 Axes>"
            ],
            "image/png": "[encoded data removed]"
          },
          "metadata": {}
        }
      ]
    },
    {
      "cell_type": "code",
      "source": [
        "# Performing Hypothesis Testing\n",
        "#\n",
        "# Step1: Create a Viable Question\n",
        "# |---- Question: Test whether R&D Spend is normally distributed or not\n",
        "#\n",
        "# Step2: Convert the Question into Hypothesis (H0 and Ha)\n",
        "# |---- Null Hypothesis (H0) ----------------- R&D Spend is NOT normally distributed\n",
        "# |---- Alternate Hypothesis (Ha | H1) ------- R&D Spend is normally distributed\n",
        "#\n",
        "# Step3: Select the Statistical Test Formula / Tool to validate the hypothesis\n",
        "# |---- Shapiro Test\n",
        "#\n",
        "# Step4: Select the SL | Alpha Value ==== 0.05\n",
        "# |---- SL =0.05\n",
        "#\n",
        "# Step5: Find the p-value from the test and compare the same with SL to identify which Hypothesis is passing\n",
        "#\n",
        "# EXCEPTION ALERT!!! --------- For Normality to pass Ha, pvalue >= SL\n",
        "\n",
        "SL = 0.05\n",
        "\n",
        "from scipy.stats import shapiro\n",
        "\n",
        "corr, pvalue = shapiro( data['R&D Spend'] )\n",
        "\n",
        "if pvalue >= SL:\n",
        "  print(\"Alternate Hypothesis (Ha | H1): R&D Spend is normally distributed\")\n",
        "else:\n",
        "  print(\"Null Hypothesis (H0): R&D Spend is NOT normally distributed\")\n",
        "print(f\"- SL = {SL}\")\n",
        "print(f\"- pvalue = {pvalue}\\n\\n\")"
      ],
      "metadata": {
        "colab": {
          "base_uri": "https://localhost:8080/"
        },
        "id": "kL8d_tDjOLCL",
        "outputId": "3376b4c7-647b-45ed-ae6f-81b6102d06a7"
      },
      "execution_count": null,
      "outputs": [
        {
          "output_type": "stream",
          "name": "stdout",
          "text": [
            "Alternate Hypothesis (Ha | H1): R&D Spend is normally distributed\n",
            "- SL = 0.05\n",
            "- pvalue = 0.18005383014678955\n",
            "\n",
            "\n"
          ]
        }
      ]
    },
    {
      "cell_type": "markdown",
      "source": [
        "**Classwork:** Hypothesis testing for normality of all columns"
      ],
      "metadata": {
        "id": "6acu3HmgrAN_"
      }
    },
    {
      "cell_type": "code",
      "source": [
        "# Column: Administration\n",
        "# Test: normaltest\n",
        "\n",
        "SL = 0.05\n",
        "\n",
        "from scipy.stats import normaltest\n",
        "nt = normaltest( data['Administration'] )\n",
        "pvalue = nt.pvalue\n",
        "\n",
        "if pvalue >= SL:\n",
        "  print(\"Alternate Hypothesis (Ha | H1): Administration is normally distributed\")\n",
        "else:\n",
        "  print(\"Null Hypothesis (H0): Administration is NOT normally distributed\")\n",
        "print(f\"|---- SL = {SL}\")\n",
        "print(f\"|---- pvalue = {pvalue}\\n\\n\")\n",
        "\n",
        "# visual confirmation\n",
        "import seaborn as sns\n",
        "%matplotlib inline\n",
        "sns.histplot(data['Administration'], kde=True)"
      ],
      "metadata": {
        "colab": {
          "base_uri": "https://localhost:8080/",
          "height": 553
        },
        "id": "VlknY6Ruq6GZ",
        "outputId": "0e08bc71-1bd5-43f9-81b5-c95b390436ec"
      },
      "execution_count": null,
      "outputs": [
        {
          "output_type": "stream",
          "name": "stdout",
          "text": [
            "Alternate Hypothesis (Ha | H1): Administration is normally distributed\n",
            "|---- SL = 0.05\n",
            "|---- pvalue = 0.2887355253581867\n",
            "\n",
            "\n"
          ]
        },
        {
          "output_type": "execute_result",
          "data": {
            "text/plain": [
              "<Axes: xlabel='Administration', ylabel='Count'>"
            ]
          },
          "metadata": {},
          "execution_count": 5
        },
        {
          "output_type": "display_data",
          "data": {
            "text/plain": [
              "<Figure size 640x480 with 1 Axes>"
            ],
            "image/png": "[encoded data removed]"
          },
          "metadata": {}
        }
      ]
    },
    {
      "cell_type": "code",
      "source": [
        "# Column: Marketing Spend\n",
        "# Test: shapiro\n",
        "\n",
        "SL = 0.05\n",
        "\n",
        "from scipy.stats import shapiro\n",
        "corr, pvalue = shapiro( data['Marketing Spend'])\n",
        "\n",
        "if pvalue >= SL:\n",
        "  print(\"Alternate Hypothesis (Ha | H1): Marketing Spend is normally distributed\")\n",
        "else:\n",
        "  print(\"Null Hypothesis (H0): Marketing Spend is NOT normally distributed\")\n",
        "print(f\"|---- SL = {SL}\")\n",
        "print(f\"|---- pvalue = {pvalue}\\n\\n\")\n",
        "\n",
        "# visual confirmation\n",
        "import seaborn as sns\n",
        "%matplotlib inline\n",
        "sns.histplot(data['Marketing Spend'], kde=True)"
      ],
      "metadata": {
        "colab": {
          "base_uri": "https://localhost:8080/",
          "height": 553
        },
        "id": "hlW6RgSWrOmo",
        "outputId": "d6bd9a80-3068-428b-b480-3eef2c8e2b93"
      },
      "execution_count": null,
      "outputs": [
        {
          "output_type": "stream",
          "name": "stdout",
          "text": [
            "Alternate Hypothesis (Ha | H1): Marketing Spend is normally distributed\n",
            "|---- SL = 0.05\n",
            "|---- pvalue = 0.3450852632522583\n",
            "\n",
            "\n"
          ]
        },
        {
          "output_type": "execute_result",
          "data": {
            "text/plain": [
              "<Axes: xlabel='Marketing Spend', ylabel='Count'>"
            ]
          },
          "metadata": {},
          "execution_count": 6
        },
        {
          "output_type": "display_data",
          "data": {
            "text/plain": [
              "<Figure size 640x480 with 1 Axes>"
            ],
            "image/png": "[encoded data removed]"
          },
          "metadata": {}
        }
      ]
    },
    {
      "cell_type": "markdown",
      "source": [
        "# **MULTI-COLLINEARITY AND FEATURE ELIMINATION**\n",
        "- **Logic:** Columns that have similar statistical significance are collinear\n",
        "- **Multi-collinearity:** Columns that are statistically same\n",
        "> - With respect to the data, given columns are different but statistically similar\n",
        "> - eliminate 1 of the 2 collinear columns\n",
        "\n",
        "- **Tests for Multi-collinearity and Feature Elimination**: 2 scenarios and their respective tests to identify multi-collinearity:\n",
        "> - when dealing with **NUMERICAL data/columns**\n",
        ">> 1. **Parametric Test:** if the given two columns are passing normality test **i.e.**  the given two columns are normally distributed</br>\n",
        ">> 2. **Non parametric Test:** if the given two columns are failing normality test **i.e.** if the given two columns are not normally distributed\n",
        "> - when dealing with **CATEGORICAL data/columns**\n",
        ">> 3. **Chi-square Test:** (explained below)\n",
        "\n",
        "- When there are more than 2 columns perform one:many tests instead of using tests that check all columns at once"
      ],
      "metadata": {
        "id": "Mwnl36mGXCdK"
      }
    },
    {
      "cell_type": "markdown",
      "source": [
        "**Example of Parametric test** (ensure both columns are normally distributed)"
      ],
      "metadata": {
        "id": "2UjLqaYKRtns"
      }
    },
    {
      "cell_type": "code",
      "source": [
        "# Performing Hypothesis Testing\n",
        "#\n",
        "# Step1: Create a Viable Question\n",
        "# |---- To check whether to preserve R&D Spend\t& Administration columns\n",
        "#\n",
        "# Step2: Convert the Question into Hypothesis (H0 and Ha)\n",
        "# |---- h0 - R&D Spend and Admin are NOT unequal (multi-collinearity)\n",
        "# |---- ha - R&D Spend and Admin are unequal (no multi-collinearity)\n",
        "#\n",
        "# Step3: Select the Statistical Test Formula / Tool to validate the hypothesis\n",
        "# |---- Parametric test -------  Student t-test\n",
        "#\n",
        "# Step4: Select the SL | Alpha Value ==== 0.05\n",
        "# |---- SL = 0.05\n",
        "#\n",
        "# Step5: Find the p-value from the test and compare the same with SL to identify which Hypothesis is passing\n",
        "\n",
        "SL = 0.05\n",
        "\n",
        "from scipy.stats import ttest_ind\n",
        "from scipy.stats import ttest_rel\n",
        "from scipy.stats import f_oneway\n",
        "\n",
        "corr, pvalue = ttest_ind( data['R&D Spend'] , data['Administration'] )\n",
        "\n",
        "if pvalue <= SL:\n",
        "  print(\"ha - R&D Spend and Admin have no statistical similarity. Thus preserve both\")\n",
        "else:\n",
        "  print(\"h0 - R&D Spend and Admin have statistical similarity resulting in multicollinearity issue. Thus eliminate one of them\")\n"
      ],
      "metadata": {
        "colab": {
          "base_uri": "https://localhost:8080/"
        },
        "id": "BSKFfimxPuOj",
        "outputId": "104a64fd-c816-472c-87e9-78d440c59508"
      },
      "execution_count": null,
      "outputs": [
        {
          "output_type": "stream",
          "name": "stdout",
          "text": [
            "ha - R&D Spend and Admin have no statistical similarity. Thus preserve both\n"
          ]
        }
      ]
    },
    {
      "cell_type": "code",
      "source": [
        "# Example of using ANOVA for parametric test (multi column test)\n",
        "# |---- NOTE: This test is not recommended because we would NOT know which of the 2 columns (from all the given columns) failed the test. We need to understand the `culprit` column <---- INTERVIEW QUESTION\n",
        "#\n",
        "# ANOVA (f_oneway) is the only test that can accepts n/unlimited number of feature columns\n",
        "# |---- what if there exists similarity in between `r&D` and `marketing` and by mistake I eliminate `Administration`\n",
        "# |---- corr, pvalue = anova(data['R&D Spend'], data['Administration'], data['Marketing Spend'])\n",
        "\n",
        "from scipy.stats import f_oneway\n",
        "\n",
        "corr, pvalue = f_oneway( data['R&D Spend'] , data['Administration'])\n",
        "\n",
        "if pvalue <= SL:\n",
        "  print(\"ha - R&D Spend and Admin have no statistical similarity. Thus preserve both\")\n",
        "else:\n",
        "  print(\"h0 - R&D Spend and Admin have statistical similarity resulting in multicollinearity issue. Thus eliminate one of them\")\n"
      ],
      "metadata": {
        "colab": {
          "base_uri": "https://localhost:8080/"
        },
        "id": "fQWJqQ_QcSVL",
        "outputId": "b95c9327-1839-4dcb-e184-de83eeb41f5b"
      },
      "execution_count": null,
      "outputs": [
        {
          "output_type": "stream",
          "name": "stdout",
          "text": [
            "ha - R&D Spend and Admin have no statistical similarity. Thus preserve both\n"
          ]
        }
      ]
    },
    {
      "cell_type": "markdown",
      "source": [
        "**Example of non parametric test** (ensure both columns are NOT normally distributed)"
      ],
      "metadata": {
        "id": "-ZH5iOA3ShdW"
      }
    },
    {
      "cell_type": "code",
      "source": [
        "# Performing Hypothesis Testing\n",
        "\n",
        "SL = 0.05\n",
        "\n",
        "from scipy.stats import wilcoxon\n",
        "from scipy.stats import mannwhitneyu\n",
        "from scipy.stats import friedmanchisquare\n",
        "\n",
        "corr, pvalue = wilcoxon( data['R&D Spend'] , data['Administration'] )\n",
        "\n",
        "if pvalue <= SL:\n",
        "  print(\"ha - R&D Spend and Admin have no statistical similarity. Thus preserve both\")\n",
        "else:\n",
        "  print(\"h0 - R&D Spend and Admin have statistical similarity resulting in multicollinearity issue. Thus eliminate one of them\")\n"
      ],
      "metadata": {
        "colab": {
          "base_uri": "https://localhost:8080/"
        },
        "id": "NKuhRLsda_DJ",
        "outputId": "0f9d2c05-c487-4f7f-af4f-65a6ce4a44eb"
      },
      "execution_count": null,
      "outputs": [
        {
          "output_type": "stream",
          "name": "stdout",
          "text": [
            "ha - R&D Spend and Admin have no statistical similarity. Thus preserve both\n"
          ]
        }
      ]
    },
    {
      "cell_type": "markdown",
      "source": [
        "**Chi-square Test** (applicable for Categorical Data)\n",
        "\n",
        "Deal with features and label pair (atleast one of the columns should be catgorical in nature)\n",
        "1. Feature is categorical and label is numerical\n",
        "2. Feature is categorical and label is categorical\n",
        "3. Feature is numerical and label is categorical\n",
        "\n",
        "**Goal:** The goal of this test is to check whether there exists any kind of statistical relationship between feature and label columns. If a relationship exists, preserve the feature, else eliminate the feature"
      ],
      "metadata": {
        "id": "DvyKsy7thgxD"
      }
    },
    {
      "cell_type": "code",
      "source": [
        "# Performing Hypothesis Testing\n",
        "#\n",
        "# Step1: Create a Viable Question\n",
        "# |---- To check whether to State and Profit have any kind of statistical relationship\n",
        "#\n",
        "# Step2: Convert the Question into Hypothesis (H0 and Ha)\n",
        "# |---- h0 - State and Profit has NO statistical relationship\n",
        "# |---- ha - State and Profit has statistical relationship\n",
        "#\n",
        "# Step3: Select the Statistical Test Formula / Tool to validate the hypothesis\n",
        "# |---- Chisquare test\n",
        "#\n",
        "# Step4: Select the SL | Alpha Value ==== 0.05\n",
        "# |---- SL = 0.05\n",
        "#\n",
        "# Step5: Find the p-value from the test and compare the same with SL to identify which Hypothesis is passing\n",
        "\n",
        "# Step5.1: how to Create Pivot Table\n",
        "# |---- pd.crosstab(feature,label)\n",
        "# |---- This format is mandatory for chi-square testing\n",
        "\n",
        "ct = pd.crosstab(data['State'],data['Profit'])\n",
        "ct"
      ],
      "metadata": {
        "colab": {
          "base_uri": "https://localhost:8080/",
          "height": 204
        },
        "id": "_X81bOq-iK6y",
        "outputId": "ed9606d7-a829-425a-f434-4e3153674c4c"
      },
      "execution_count": null,
      "outputs": [
        {
          "output_type": "execute_result",
          "data": {
            "text/plain": [
              "Profit      14681.40   35673.41   42559.73   49490.75   64926.08   65200.33   \\\n",
              "State                                                                          \n",
              "California          1          0          1          0          0          1   \n",
              "Florida             0          0          0          1          0          0   \n",
              "New York            0          1          0          0          1          0   \n",
              "\n",
              "Profit      69758.98   71498.49   77798.83   78239.91   ...  149759.96  \\\n",
              "State                                                   ...              \n",
              "California          0          1          0          1  ...          1   \n",
              "Florida             0          0          1          0  ...          0   \n",
              "New York            1          0          0          0  ...          0   \n",
              "\n",
              "Profit      152211.77  155752.60  156122.51  156991.12  166187.94  182901.99  \\\n",
              "State                                                                          \n",
              "California          0          0          1          0          0          0   \n",
              "Florida             0          1          0          0          1          0   \n",
              "New York            1          0          0          1          0          1   \n",
              "\n",
              "Profit      191050.39  191792.06  192261.83  \n",
              "State                                        \n",
              "California          0          1          0  \n",
              "Florida             1          0          0  \n",
              "New York            0          0          1  \n",
              "\n",
              "[3 rows x 50 columns]"
            ],
            "text/html": [
              "\n",
              "  <div id=\"df-13da7fd9-9a23-47e7-b192-4fbb5182df8e\" class=\"colab-df-container\">\n",
              "    <div>\n",
              "<style scoped>\n",
              "    .dataframe tbody tr th:only-of-type {\n",
              "        vertical-align: middle;\n",
              "    }\n",
              "\n",
              "    .dataframe tbody tr th {\n",
              "        vertical-align: top;\n",
              "    }\n",
              "\n",
              "    .dataframe thead th {\n",
              "        text-align: right;\n",
              "    }\n",
              "</style>\n",
              "<table border=\"1\" class=\"dataframe\">\n",
              "  <thead>\n",
              "    <tr style=\"text-align: right;\">\n",
              "      <th>Profit</th>\n",
              "      <th>14681.40</th>\n",
              "      <th>35673.41</th>\n",
              "      <th>42559.73</th>\n",
              "      <th>49490.75</th>\n",
              "      <th>64926.08</th>\n",
              "      <th>65200.33</th>\n",
              "      <th>69758.98</th>\n",
              "      <th>71498.49</th>\n",
              "      <th>77798.83</th>\n",
              "      <th>78239.91</th>\n",
              "      <th>...</th>\n",
              "      <th>149759.96</th>\n",
              "      <th>152211.77</th>\n",
              "      <th>155752.60</th>\n",
              "      <th>156122.51</th>\n",
              "      <th>156991.12</th>\n",
              "      <th>166187.94</th>\n",
              "      <th>182901.99</th>\n",
              "      <th>191050.39</th>\n",
              "      <th>191792.06</th>\n",
              "      <th>192261.83</th>\n",
              "    </tr>\n",
              "    <tr>\n",
              "      <th>State</th>\n",
              "      <th></th>\n",
              "      <th></th>\n",
              "      <th></th>\n",
              "      <th></th>\n",
              "      <th></th>\n",
              "      <th></th>\n",
              "      <th></th>\n",
              "      <th></th>\n",
              "      <th></th>\n",
              "      <th></th>\n",
              "      <th></th>\n",
              "      <th></th>\n",
              "      <th></th>\n",
              "      <th></th>\n",
              "      <th></th>\n",
              "      <th></th>\n",
              "      <th></th>\n",
              "      <th></th>\n",
              "      <th></th>\n",
              "      <th></th>\n",
              "      <th></th>\n",
              "    </tr>\n",
              "  </thead>\n",
              "  <tbody>\n",
              "    <tr>\n",
              "      <th>California</th>\n",
              "      <td>1</td>\n",
              "      <td>0</td>\n",
              "      <td>1</td>\n",
              "      <td>0</td>\n",
              "      <td>0</td>\n",
              "      <td>1</td>\n",
              "      <td>0</td>\n",
              "      <td>1</td>\n",
              "      <td>0</td>\n",
              "      <td>1</td>\n",
              "      <td>...</td>\n",
              "      <td>1</td>\n",
              "      <td>0</td>\n",
              "      <td>0</td>\n",
              "      <td>1</td>\n",
              "      <td>0</td>\n",
              "      <td>0</td>\n",
              "      <td>0</td>\n",
              "      <td>0</td>\n",
              "      <td>1</td>\n",
              "      <td>0</td>\n",
              "    </tr>\n",
              "    <tr>\n",
              "      <th>Florida</th>\n",
              "      <td>0</td>\n",
              "      <td>0</td>\n",
              "      <td>0</td>\n",
              "      <td>1</td>\n",
              "      <td>0</td>\n",
              "      <td>0</td>\n",
              "      <td>0</td>\n",
              "      <td>0</td>\n",
              "      <td>1</td>\n",
              "      <td>0</td>\n",
              "      <td>...</td>\n",
              "      <td>0</td>\n",
              "      <td>0</td>\n",
              "      <td>1</td>\n",
              "      <td>0</td>\n",
              "      <td>0</td>\n",
              "      <td>1</td>\n",
              "      <td>0</td>\n",
              "      <td>1</td>\n",
              "      <td>0</td>\n",
              "      <td>0</td>\n",
              "    </tr>\n",
              "    <tr>\n",
              "      <th>New York</th>\n",
              "      <td>0</td>\n",
              "      <td>1</td>\n",
              "      <td>0</td>\n",
              "      <td>0</td>\n",
              "      <td>1</td>\n",
              "      <td>0</td>\n",
              "      <td>1</td>\n",
              "      <td>0</td>\n",
              "      <td>0</td>\n",
              "      <td>0</td>\n",
              "      <td>...</td>\n",
              "      <td>0</td>\n",
              "      <td>1</td>\n",
              "      <td>0</td>\n",
              "      <td>0</td>\n",
              "      <td>1</td>\n",
              "      <td>0</td>\n",
              "      <td>1</td>\n",
              "      <td>0</td>\n",
              "      <td>0</td>\n",
              "      <td>1</td>\n",
              "    </tr>\n",
              "  </tbody>\n",
              "</table>\n",
              "<p>3 rows × 50 columns</p>\n",
              "</div>\n",
              "    <div class=\"colab-df-buttons\">\n",
              "\n",
              "  <div class=\"colab-df-container\">\n",
              "    <button class=\"colab-df-convert\" onclick=\"convertToInteractive('df-13da7fd9-9a23-47e7-b192-4fbb5182df8e')\"\n",
              "            title=\"Convert this dataframe to an interactive table.\"\n",
              "            style=\"display:none;\">\n",
              "\n",
              "  <svg xmlns=\"http://www.w3.org/2000/svg\" height=\"24px\" viewBox=\"0 -960 960 960\">\n",
              "    <path d=\"M120-120v-720h720v720H120Zm60-500h600v-160H180v160Zm220 220h160v-160H400v160Zm0 220h160v-160H400v160ZM180-400h160v-160H180v160Zm440 0h160v-160H620v160ZM180-180h160v-160H180v160Zm440 0h160v-160H620v160Z\"/>\n",
              "  </svg>\n",
              "    </button>\n",
              "\n",
              "  <style>\n",
              "    .colab-df-container {\n",
              "      display:flex;\n",
              "      gap: 12px;\n",
              "    }\n",
              "\n",
              "    .colab-df-convert {\n",
              "      background-color: #E8F0FE;\n",
              "      border: none;\n",
              "      border-radius: 50%;\n",
              "      cursor: pointer;\n",
              "      display: none;\n",
              "      fill: #1967D2;\n",
              "      height: 32px;\n",
              "      padding: 0 0 0 0;\n",
              "      width: 32px;\n",
              "    }\n",
              "\n",
              "    .colab-df-convert:hover {\n",
              "      background-color: #E2EBFA;\n",
              "      box-shadow: 0px 1px 2px rgba(60, 64, 67, 0.3), 0px 1px 3px 1px rgba(60, 64, 67, 0.15);\n",
              "      fill: #174EA6;\n",
              "    }\n",
              "\n",
              "    .colab-df-buttons div {\n",
              "      margin-bottom: 4px;\n",
              "    }\n",
              "\n",
              "    [theme=dark] .colab-df-convert {\n",
              "      background-color: #3B4455;\n",
              "      fill: #D2E3FC;\n",
              "    }\n",
              "\n",
              "    [theme=dark] .colab-df-convert:hover {\n",
              "      background-color: #434B5C;\n",
              "      box-shadow: 0px 1px 3px 1px rgba(0, 0, 0, 0.15);\n",
              "      filter: drop-shadow(0px 1px 2px rgba(0, 0, 0, 0.3));\n",
              "      fill: #FFFFFF;\n",
              "    }\n",
              "  </style>\n",
              "\n",
              "    <script>\n",
              "      const buttonEl =\n",
              "        document.querySelector('#df-13da7fd9-9a23-47e7-b192-4fbb5182df8e button.colab-df-convert');\n",
              "      buttonEl.style.display =\n",
              "        google.colab.kernel.accessAllowed ? 'block' : 'none';\n",
              "\n",
              "      async function convertToInteractive(key) {\n",
              "        const element = document.querySelector('#df-13da7fd9-9a23-47e7-b192-4fbb5182df8e');\n",
              "        const dataTable =\n",
              "          await google.colab.kernel.invokeFunction('convertToInteractive',\n",
              "                                                    [key], {});\n",
              "        if (!dataTable) return;\n",
              "\n",
              "        const docLinkHtml = 'Like what you see? Visit the ' +\n",
              "          '<a target=\"_blank\" href=https://colab.research.google.com/notebooks/data_table.ipynb>data table notebook</a>'\n",
              "          + ' to learn more about interactive tables.';\n",
              "        element.innerHTML = '';\n",
              "        dataTable['output_type'] = 'display_data';\n",
              "        await google.colab.output.renderOutput(dataTable, element);\n",
              "        const docLink = document.createElement('div');\n",
              "        docLink.innerHTML = docLinkHtml;\n",
              "        element.appendChild(docLink);\n",
              "      }\n",
              "    </script>\n",
              "  </div>\n",
              "\n",
              "\n",
              "<div id=\"df-0029e6c2-dcc4-47f8-bdc1-8064624da281\">\n",
              "  <button class=\"colab-df-quickchart\" onclick=\"quickchart('df-0029e6c2-dcc4-47f8-bdc1-8064624da281')\"\n",
              "            title=\"Suggest charts\"\n",
              "            style=\"display:none;\">\n",
              "\n",
              "<svg xmlns=\"http://www.w3.org/2000/svg\" height=\"24px\"viewBox=\"0 0 24 24\"\n",
              "     width=\"24px\">\n",
              "    <g>\n",
              "        <path d=\"M19 3H5c-1.1 0-2 .9-2 2v14c0 1.1.9 2 2 2h14c1.1 0 2-.9 2-2V5c0-1.1-.9-2-2-2zM9 17H7v-7h2v7zm4 0h-2V7h2v10zm4 0h-2v-4h2v4z\"/>\n",
              "    </g>\n",
              "</svg>\n",
              "  </button>\n",
              "\n",
              "<style>\n",
              "  .colab-df-quickchart {\n",
              "      --bg-color: #E8F0FE;\n",
              "      --fill-color: #1967D2;\n",
              "      --hover-bg-color: #E2EBFA;\n",
              "      --hover-fill-color: #174EA6;\n",
              "      --disabled-fill-color: #AAA;\n",
              "      --disabled-bg-color: #DDD;\n",
              "  }\n",
              "\n",
              "  [theme=dark] .colab-df-quickchart {\n",
              "      --bg-color: #3B4455;\n",
              "      --fill-color: #D2E3FC;\n",
              "      --hover-bg-color: #434B5C;\n",
              "      --hover-fill-color: #FFFFFF;\n",
              "      --disabled-bg-color: #3B4455;\n",
              "      --disabled-fill-color: #666;\n",
              "  }\n",
              "\n",
              "  .colab-df-quickchart {\n",
              "    background-color: var(--bg-color);\n",
              "    border: none;\n",
              "    border-radius: 50%;\n",
              "    cursor: pointer;\n",
              "    display: none;\n",
              "    fill: var(--fill-color);\n",
              "    height: 32px;\n",
              "    padding: 0;\n",
              "    width: 32px;\n",
              "  }\n",
              "\n",
              "  .colab-df-quickchart:hover {\n",
              "    background-color: var(--hover-bg-color);\n",
              "    box-shadow: 0 1px 2px rgba(60, 64, 67, 0.3), 0 1px 3px 1px rgba(60, 64, 67, 0.15);\n",
              "    fill: var(--button-hover-fill-color);\n",
              "  }\n",
              "\n",
              "  .colab-df-quickchart-complete:disabled,\n",
              "  .colab-df-quickchart-complete:disabled:hover {\n",
              "    background-color: var(--disabled-bg-color);\n",
              "    fill: var(--disabled-fill-color);\n",
              "    box-shadow: none;\n",
              "  }\n",
              "\n",
              "  .colab-df-spinner {\n",
              "    border: 2px solid var(--fill-color);\n",
              "    border-color: transparent;\n",
              "    border-bottom-color: var(--fill-color);\n",
              "    animation:\n",
              "      spin 1s steps(1) infinite;\n",
              "  }\n",
              "\n",
              "  @keyframes spin {\n",
              "    0% {\n",
              "      border-color: transparent;\n",
              "      border-bottom-color: var(--fill-color);\n",
              "      border-left-color: var(--fill-color);\n",
              "    }\n",
              "    20% {\n",
              "      border-color: transparent;\n",
              "      border-left-color: var(--fill-color);\n",
              "      border-top-color: var(--fill-color);\n",
              "    }\n",
              "    30% {\n",
              "      border-color: transparent;\n",
              "      border-left-color: var(--fill-color);\n",
              "      border-top-color: var(--fill-color);\n",
              "      border-right-color: var(--fill-color);\n",
              "    }\n",
              "    40% {\n",
              "      border-color: transparent;\n",
              "      border-right-color: var(--fill-color);\n",
              "      border-top-color: var(--fill-color);\n",
              "    }\n",
              "    60% {\n",
              "      border-color: transparent;\n",
              "      border-right-color: var(--fill-color);\n",
              "    }\n",
              "    80% {\n",
              "      border-color: transparent;\n",
              "      border-right-color: var(--fill-color);\n",
              "      border-bottom-color: var(--fill-color);\n",
              "    }\n",
              "    90% {\n",
              "      border-color: transparent;\n",
              "      border-bottom-color: var(--fill-color);\n",
              "    }\n",
              "  }\n",
              "</style>\n",
              "\n",
              "  <script>\n",
              "    async function quickchart(key) {\n",
              "      const quickchartButtonEl =\n",
              "        document.querySelector('#' + key + ' button');\n",
              "      quickchartButtonEl.disabled = true;  // To prevent multiple clicks.\n",
              "      quickchartButtonEl.classList.add('colab-df-spinner');\n",
              "      try {\n",
              "        const charts = await google.colab.kernel.invokeFunction(\n",
              "            'suggestCharts', [key], {});\n",
              "      } catch (error) {\n",
              "        console.error('Error during call to suggestCharts:', error);\n",
              "      }\n",
              "      quickchartButtonEl.classList.remove('colab-df-spinner');\n",
              "      quickchartButtonEl.classList.add('colab-df-quickchart-complete');\n",
              "    }\n",
              "    (() => {\n",
              "      let quickchartButtonEl =\n",
              "        document.querySelector('#df-0029e6c2-dcc4-47f8-bdc1-8064624da281 button');\n",
              "      quickchartButtonEl.style.display =\n",
              "        google.colab.kernel.accessAllowed ? 'block' : 'none';\n",
              "    })();\n",
              "  </script>\n",
              "</div>\n",
              "\n",
              "  <div id=\"id_7bbe3b7a-6b4d-44a5-9116-36edba2a72b6\">\n",
              "    <style>\n",
              "      .colab-df-generate {\n",
              "        background-color: #E8F0FE;\n",
              "        border: none;\n",
              "        border-radius: 50%;\n",
              "        cursor: pointer;\n",
              "        display: none;\n",
              "        fill: #1967D2;\n",
              "        height: 32px;\n",
              "        padding: 0 0 0 0;\n",
              "        width: 32px;\n",
              "      }\n",
              "\n",
              "      .colab-df-generate:hover {\n",
              "        background-color: #E2EBFA;\n",
              "        box-shadow: 0px 1px 2px rgba(60, 64, 67, 0.3), 0px 1px 3px 1px rgba(60, 64, 67, 0.15);\n",
              "        fill: #174EA6;\n",
              "      }\n",
              "\n",
              "      [theme=dark] .colab-df-generate {\n",
              "        background-color: #3B4455;\n",
              "        fill: #D2E3FC;\n",
              "      }\n",
              "\n",
              "      [theme=dark] .colab-df-generate:hover {\n",
              "        background-color: #434B5C;\n",
              "        box-shadow: 0px 1px 3px 1px rgba(0, 0, 0, 0.15);\n",
              "        filter: drop-shadow(0px 1px 2px rgba(0, 0, 0, 0.3));\n",
              "        fill: #FFFFFF;\n",
              "      }\n",
              "    </style>\n",
              "    <button class=\"colab-df-generate\" onclick=\"generateWithVariable('ct')\"\n",
              "            title=\"Generate code using this dataframe.\"\n",
              "            style=\"display:none;\">\n",
              "\n",
              "  <svg xmlns=\"http://www.w3.org/2000/svg\" height=\"24px\"viewBox=\"0 0 24 24\"\n",
              "       width=\"24px\">\n",
              "    <path d=\"M7,19H8.4L18.45,9,17,7.55,7,17.6ZM5,21V16.75L18.45,3.32a2,2,0,0,1,2.83,0l1.4,1.43a1.91,1.91,0,0,1,.58,1.4,1.91,1.91,0,0,1-.58,1.4L9.25,21ZM18.45,9,17,7.55Zm-12,3A5.31,5.31,0,0,0,4.9,8.1,5.31,5.31,0,0,0,1,6.5,5.31,5.31,0,0,0,4.9,4.9,5.31,5.31,0,0,0,6.5,1,5.31,5.31,0,0,0,8.1,4.9,5.31,5.31,0,0,0,12,6.5,5.46,5.46,0,0,0,6.5,12Z\"/>\n",
              "  </svg>\n",
              "    </button>\n",
              "    <script>\n",
              "      (() => {\n",
              "      const buttonEl =\n",
              "        document.querySelector('#id_7bbe3b7a-6b4d-44a5-9116-36edba2a72b6 button.colab-df-generate');\n",
              "      buttonEl.style.display =\n",
              "        google.colab.kernel.accessAllowed ? 'block' : 'none';\n",
              "\n",
              "      buttonEl.onclick = () => {\n",
              "        google.colab.notebook.generateWithVariable('ct');\n",
              "      }\n",
              "      })();\n",
              "    </script>\n",
              "  </div>\n",
              "\n",
              "    </div>\n",
              "  </div>\n"
            ]
          },
          "metadata": {},
          "execution_count": 27
        }
      ]
    },
    {
      "cell_type": "code",
      "source": [
        "SL = 0.05\n",
        "\n",
        "from scipy.stats import chi2_contingency\n",
        "\n",
        "_,_, pvalue,_ = chi2_contingency( ct )\n",
        "\n",
        "if pvalue <= SL:\n",
        "  print(\"ha - State and Profit have statistical relationship\")\n",
        "else:\n",
        "  print(\"h0 - State and Profit do NOT have statistical relationship\")\n"
      ],
      "metadata": {
        "colab": {
          "base_uri": "https://localhost:8080/"
        },
        "id": "y5CZOgecjee7",
        "outputId": "72bfcfc3-1116-4be2-d25b-c8ab0dac41ed"
      },
      "execution_count": null,
      "outputs": [
        {
          "output_type": "stream",
          "name": "stdout",
          "text": [
            "h0 - State and Profit do NOT have statistical relationship\n"
          ]
        }
      ]
    },
    {
      "cell_type": "code",
      "source": [
        "?chi2_contingency"
      ],
      "metadata": {
        "id": "6TWbkLstksG7"
      },
      "execution_count": null,
      "outputs": []
    }
  ]
}