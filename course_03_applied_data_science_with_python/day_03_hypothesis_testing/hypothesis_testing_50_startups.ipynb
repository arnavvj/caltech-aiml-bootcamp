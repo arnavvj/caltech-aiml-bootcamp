{
  "nbformat": 4,
  "nbformat_minor": 0,
  "metadata": {
    "colab": {
      "provenance": []
    },
    "kernelspec": {
      "name": "python3",
      "display_name": "Python 3"
    },
    "language_info": {
      "name": "python"
    }
  },
  "cells": [
    {
      "cell_type": "markdown",
      "source": [
        "# **IMPORT THE ESSENTIALS**"
      ],
      "metadata": {
        "id": "sF-Eoh0kbfI0"
      }
    },
    {
      "cell_type": "code",
      "execution_count": 34,
      "metadata": {
        "id": "S5vDqjiM-ReU"
      },
      "outputs": [],
      "source": [
        "# import the usual modules\n",
        "import pandas as pd\n",
        "import numpy as np"
      ]
    },
    {
      "cell_type": "code",
      "source": [
        "# please upload this data/csv on colab before running the remaining notebook\n",
        "data=pd.read_csv('50_Startups.csv')"
      ],
      "metadata": {
        "id": "XDftL21y_dt8"
      },
      "execution_count": 35,
      "outputs": []
    },
    {
      "cell_type": "code",
      "source": [
        "data.info()\n",
        "# Data is preprocessed and ready for hypothesis testing"
      ],
      "metadata": {
        "colab": {
          "base_uri": "https://localhost:8080/"
        },
        "id": "73aCqqyK_k6z",
        "outputId": "2b1e0c16-7494-49ed-dd77-b7c7e553b2ce"
      },
      "execution_count": 36,
      "outputs": [
        {
          "output_type": "stream",
          "name": "stdout",
          "text": [
            "<class 'pandas.core.frame.DataFrame'>\n",
            "RangeIndex: 50 entries, 0 to 49\n",
            "Data columns (total 5 columns):\n",
            " #   Column           Non-Null Count  Dtype  \n",
            "---  ------           --------------  -----  \n",
            " 0   R&D Spend        50 non-null     float64\n",
            " 1   Administration   50 non-null     float64\n",
            " 2   Marketing Spend  50 non-null     float64\n",
            " 3   State            50 non-null     object \n",
            " 4   Profit           50 non-null     float64\n",
            "dtypes: float64(4), object(1)\n",
            "memory usage: 2.1+ KB\n"
          ]
        }
      ]
    },
    {
      "cell_type": "code",
      "source": [
        "# describe the data\n",
        "data.describe()"
      ],
      "metadata": {
        "colab": {
          "base_uri": "https://localhost:8080/",
          "height": 300
        },
        "id": "L0rQ2Dwl_lur",
        "outputId": "b637d32c-a871-4d95-ff77-78ee4f169b94"
      },
      "execution_count": 37,
      "outputs": [
        {
          "output_type": "execute_result",
          "data": {
            "text/plain": [
              "           R&D Spend  Administration  Marketing Spend         Profit\n",
              "count      50.000000       50.000000        50.000000      50.000000\n",
              "mean    73721.615600   121344.639600    211025.097800  112012.639200\n",
              "std     45902.256482    28017.802755    122290.310726   40306.180338\n",
              "min         0.000000    51283.140000         0.000000   14681.400000\n",
              "25%     39936.370000   103730.875000    129300.132500   90138.902500\n",
              "50%     73051.080000   122699.795000    212716.240000  107978.190000\n",
              "75%    101602.800000   144842.180000    299469.085000  139765.977500\n",
              "max    165349.200000   182645.560000    471784.100000  192261.830000"
            ],
            "text/html": [
              "\n",
              "  <div id=\"df-22322e1a-094e-4c60-9812-86ff7e795368\" class=\"colab-df-container\">\n",
              "    <div>\n",
              "<style scoped>\n",
              "    .dataframe tbody tr th:only-of-type {\n",
              "        vertical-align: middle;\n",
              "    }\n",
              "\n",
              "    .dataframe tbody tr th {\n",
              "        vertical-align: top;\n",
              "    }\n",
              "\n",
              "    .dataframe thead th {\n",
              "        text-align: right;\n",
              "    }\n",
              "</style>\n",
              "<table border=\"1\" class=\"dataframe\">\n",
              "  <thead>\n",
              "    <tr style=\"text-align: right;\">\n",
              "      <th></th>\n",
              "      <th>R&amp;D Spend</th>\n",
              "      <th>Administration</th>\n",
              "      <th>Marketing Spend</th>\n",
              "      <th>Profit</th>\n",
              "    </tr>\n",
              "  </thead>\n",
              "  <tbody>\n",
              "    <tr>\n",
              "      <th>count</th>\n",
              "      <td>50.000000</td>\n",
              "      <td>50.000000</td>\n",
              "      <td>50.000000</td>\n",
              "      <td>50.000000</td>\n",
              "    </tr>\n",
              "    <tr>\n",
              "      <th>mean</th>\n",
              "      <td>73721.615600</td>\n",
              "      <td>121344.639600</td>\n",
              "      <td>211025.097800</td>\n",
              "      <td>112012.639200</td>\n",
              "    </tr>\n",
              "    <tr>\n",
              "      <th>std</th>\n",
              "      <td>45902.256482</td>\n",
              "      <td>28017.802755</td>\n",
              "      <td>122290.310726</td>\n",
              "      <td>40306.180338</td>\n",
              "    </tr>\n",
              "    <tr>\n",
              "      <th>min</th>\n",
              "      <td>0.000000</td>\n",
              "      <td>51283.140000</td>\n",
              "      <td>0.000000</td>\n",
              "      <td>14681.400000</td>\n",
              "    </tr>\n",
              "    <tr>\n",
              "      <th>25%</th>\n",
              "      <td>39936.370000</td>\n",
              "      <td>103730.875000</td>\n",
              "      <td>129300.132500</td>\n",
              "      <td>90138.902500</td>\n",
              "    </tr>\n",
              "    <tr>\n",
              "      <th>50%</th>\n",
              "      <td>73051.080000</td>\n",
              "      <td>122699.795000</td>\n",
              "      <td>212716.240000</td>\n",
              "      <td>107978.190000</td>\n",
              "    </tr>\n",
              "    <tr>\n",
              "      <th>75%</th>\n",
              "      <td>101602.800000</td>\n",
              "      <td>144842.180000</td>\n",
              "      <td>299469.085000</td>\n",
              "      <td>139765.977500</td>\n",
              "    </tr>\n",
              "    <tr>\n",
              "      <th>max</th>\n",
              "      <td>165349.200000</td>\n",
              "      <td>182645.560000</td>\n",
              "      <td>471784.100000</td>\n",
              "      <td>192261.830000</td>\n",
              "    </tr>\n",
              "  </tbody>\n",
              "</table>\n",
              "</div>\n",
              "    <div class=\"colab-df-buttons\">\n",
              "\n",
              "  <div class=\"colab-df-container\">\n",
              "    <button class=\"colab-df-convert\" onclick=\"convertToInteractive('df-22322e1a-094e-4c60-9812-86ff7e795368')\"\n",
              "            title=\"Convert this dataframe to an interactive table.\"\n",
              "            style=\"display:none;\">\n",
              "\n",
              "  <svg xmlns=\"http://www.w3.org/2000/svg\" height=\"24px\" viewBox=\"0 -960 960 960\">\n",
              "    <path d=\"M120-120v-720h720v720H120Zm60-500h600v-160H180v160Zm220 220h160v-160H400v160Zm0 220h160v-160H400v160ZM180-400h160v-160H180v160Zm440 0h160v-160H620v160ZM180-180h160v-160H180v160Zm440 0h160v-160H620v160Z\"/>\n",
              "  </svg>\n",
              "    </button>\n",
              "\n",
              "  <style>\n",
              "    .colab-df-container {\n",
              "      display:flex;\n",
              "      gap: 12px;\n",
              "    }\n",
              "\n",
              "    .colab-df-convert {\n",
              "      background-color: #E8F0FE;\n",
              "      border: none;\n",
              "      border-radius: 50%;\n",
              "      cursor: pointer;\n",
              "      display: none;\n",
              "      fill: #1967D2;\n",
              "      height: 32px;\n",
              "      padding: 0 0 0 0;\n",
              "      width: 32px;\n",
              "    }\n",
              "\n",
              "    .colab-df-convert:hover {\n",
              "      background-color: #E2EBFA;\n",
              "      box-shadow: 0px 1px 2px rgba(60, 64, 67, 0.3), 0px 1px 3px 1px rgba(60, 64, 67, 0.15);\n",
              "      fill: #174EA6;\n",
              "    }\n",
              "\n",
              "    .colab-df-buttons div {\n",
              "      margin-bottom: 4px;\n",
              "    }\n",
              "\n",
              "    [theme=dark] .colab-df-convert {\n",
              "      background-color: #3B4455;\n",
              "      fill: #D2E3FC;\n",
              "    }\n",
              "\n",
              "    [theme=dark] .colab-df-convert:hover {\n",
              "      background-color: #434B5C;\n",
              "      box-shadow: 0px 1px 3px 1px rgba(0, 0, 0, 0.15);\n",
              "      filter: drop-shadow(0px 1px 2px rgba(0, 0, 0, 0.3));\n",
              "      fill: #FFFFFF;\n",
              "    }\n",
              "  </style>\n",
              "\n",
              "    <script>\n",
              "      const buttonEl =\n",
              "        document.querySelector('#df-22322e1a-094e-4c60-9812-86ff7e795368 button.colab-df-convert');\n",
              "      buttonEl.style.display =\n",
              "        google.colab.kernel.accessAllowed ? 'block' : 'none';\n",
              "\n",
              "      async function convertToInteractive(key) {\n",
              "        const element = document.querySelector('#df-22322e1a-094e-4c60-9812-86ff7e795368');\n",
              "        const dataTable =\n",
              "          await google.colab.kernel.invokeFunction('convertToInteractive',\n",
              "                                                    [key], {});\n",
              "        if (!dataTable) return;\n",
              "\n",
              "        const docLinkHtml = 'Like what you see? Visit the ' +\n",
              "          '<a target=\"_blank\" href=https://colab.research.google.com/notebooks/data_table.ipynb>data table notebook</a>'\n",
              "          + ' to learn more about interactive tables.';\n",
              "        element.innerHTML = '';\n",
              "        dataTable['output_type'] = 'display_data';\n",
              "        await google.colab.output.renderOutput(dataTable, element);\n",
              "        const docLink = document.createElement('div');\n",
              "        docLink.innerHTML = docLinkHtml;\n",
              "        element.appendChild(docLink);\n",
              "      }\n",
              "    </script>\n",
              "  </div>\n",
              "\n",
              "\n",
              "<div id=\"df-214d250e-00e7-4736-a4bb-81592fe93507\">\n",
              "  <button class=\"colab-df-quickchart\" onclick=\"quickchart('df-214d250e-00e7-4736-a4bb-81592fe93507')\"\n",
              "            title=\"Suggest charts\"\n",
              "            style=\"display:none;\">\n",
              "\n",
              "<svg xmlns=\"http://www.w3.org/2000/svg\" height=\"24px\"viewBox=\"0 0 24 24\"\n",
              "     width=\"24px\">\n",
              "    <g>\n",
              "        <path d=\"M19 3H5c-1.1 0-2 .9-2 2v14c0 1.1.9 2 2 2h14c1.1 0 2-.9 2-2V5c0-1.1-.9-2-2-2zM9 17H7v-7h2v7zm4 0h-2V7h2v10zm4 0h-2v-4h2v4z\"/>\n",
              "    </g>\n",
              "</svg>\n",
              "  </button>\n",
              "\n",
              "<style>\n",
              "  .colab-df-quickchart {\n",
              "      --bg-color: #E8F0FE;\n",
              "      --fill-color: #1967D2;\n",
              "      --hover-bg-color: #E2EBFA;\n",
              "      --hover-fill-color: #174EA6;\n",
              "      --disabled-fill-color: #AAA;\n",
              "      --disabled-bg-color: #DDD;\n",
              "  }\n",
              "\n",
              "  [theme=dark] .colab-df-quickchart {\n",
              "      --bg-color: #3B4455;\n",
              "      --fill-color: #D2E3FC;\n",
              "      --hover-bg-color: #434B5C;\n",
              "      --hover-fill-color: #FFFFFF;\n",
              "      --disabled-bg-color: #3B4455;\n",
              "      --disabled-fill-color: #666;\n",
              "  }\n",
              "\n",
              "  .colab-df-quickchart {\n",
              "    background-color: var(--bg-color);\n",
              "    border: none;\n",
              "    border-radius: 50%;\n",
              "    cursor: pointer;\n",
              "    display: none;\n",
              "    fill: var(--fill-color);\n",
              "    height: 32px;\n",
              "    padding: 0;\n",
              "    width: 32px;\n",
              "  }\n",
              "\n",
              "  .colab-df-quickchart:hover {\n",
              "    background-color: var(--hover-bg-color);\n",
              "    box-shadow: 0 1px 2px rgba(60, 64, 67, 0.3), 0 1px 3px 1px rgba(60, 64, 67, 0.15);\n",
              "    fill: var(--button-hover-fill-color);\n",
              "  }\n",
              "\n",
              "  .colab-df-quickchart-complete:disabled,\n",
              "  .colab-df-quickchart-complete:disabled:hover {\n",
              "    background-color: var(--disabled-bg-color);\n",
              "    fill: var(--disabled-fill-color);\n",
              "    box-shadow: none;\n",
              "  }\n",
              "\n",
              "  .colab-df-spinner {\n",
              "    border: 2px solid var(--fill-color);\n",
              "    border-color: transparent;\n",
              "    border-bottom-color: var(--fill-color);\n",
              "    animation:\n",
              "      spin 1s steps(1) infinite;\n",
              "  }\n",
              "\n",
              "  @keyframes spin {\n",
              "    0% {\n",
              "      border-color: transparent;\n",
              "      border-bottom-color: var(--fill-color);\n",
              "      border-left-color: var(--fill-color);\n",
              "    }\n",
              "    20% {\n",
              "      border-color: transparent;\n",
              "      border-left-color: var(--fill-color);\n",
              "      border-top-color: var(--fill-color);\n",
              "    }\n",
              "    30% {\n",
              "      border-color: transparent;\n",
              "      border-left-color: var(--fill-color);\n",
              "      border-top-color: var(--fill-color);\n",
              "      border-right-color: var(--fill-color);\n",
              "    }\n",
              "    40% {\n",
              "      border-color: transparent;\n",
              "      border-right-color: var(--fill-color);\n",
              "      border-top-color: var(--fill-color);\n",
              "    }\n",
              "    60% {\n",
              "      border-color: transparent;\n",
              "      border-right-color: var(--fill-color);\n",
              "    }\n",
              "    80% {\n",
              "      border-color: transparent;\n",
              "      border-right-color: var(--fill-color);\n",
              "      border-bottom-color: var(--fill-color);\n",
              "    }\n",
              "    90% {\n",
              "      border-color: transparent;\n",
              "      border-bottom-color: var(--fill-color);\n",
              "    }\n",
              "  }\n",
              "</style>\n",
              "\n",
              "  <script>\n",
              "    async function quickchart(key) {\n",
              "      const quickchartButtonEl =\n",
              "        document.querySelector('#' + key + ' button');\n",
              "      quickchartButtonEl.disabled = true;  // To prevent multiple clicks.\n",
              "      quickchartButtonEl.classList.add('colab-df-spinner');\n",
              "      try {\n",
              "        const charts = await google.colab.kernel.invokeFunction(\n",
              "            'suggestCharts', [key], {});\n",
              "      } catch (error) {\n",
              "        console.error('Error during call to suggestCharts:', error);\n",
              "      }\n",
              "      quickchartButtonEl.classList.remove('colab-df-spinner');\n",
              "      quickchartButtonEl.classList.add('colab-df-quickchart-complete');\n",
              "    }\n",
              "    (() => {\n",
              "      let quickchartButtonEl =\n",
              "        document.querySelector('#df-214d250e-00e7-4736-a4bb-81592fe93507 button');\n",
              "      quickchartButtonEl.style.display =\n",
              "        google.colab.kernel.accessAllowed ? 'block' : 'none';\n",
              "    })();\n",
              "  </script>\n",
              "</div>\n",
              "\n",
              "    </div>\n",
              "  </div>\n"
            ]
          },
          "metadata": {},
          "execution_count": 37
        }
      ]
    },
    {
      "cell_type": "code",
      "source": [
        "# steps to perform hypothesis testing\n",
        "# |\n",
        "# |---- step1: Create a Viable Question\n",
        "# |---- step2: Convert the Question into Hypothesis (H0 and Ha)\n",
        "# |---- step3: Select the Statistical Test Formula / Tool to validate the hypothesis\n",
        "# |---- step4: Select the SL | Alpha Value ==== 0.05 for this notebook\n",
        "# |---- step5: Find the p-value from the test and compare the same with SL to identify which Hypothesis is passing"
      ],
      "metadata": {
        "id": "cSDy_hSA_rrc"
      },
      "execution_count": 38,
      "outputs": []
    },
    {
      "cell_type": "code",
      "source": [
        "# What is p-value?\n",
        "# |---- Calculated SL between 2 variable\n",
        "# |---- Result is determined from statistical test formula"
      ],
      "metadata": {
        "id": "-3UQNiEwBME9"
      },
      "execution_count": 39,
      "outputs": []
    },
    {
      "cell_type": "markdown",
      "source": [
        "# **CORRELATION TEST**"
      ],
      "metadata": {
        "id": "IIOmf_PeAXll"
      }
    },
    {
      "cell_type": "code",
      "source": [
        "# Performing Hypothesis Testing\n",
        "#\n",
        "# Step1: Create a Viable Question\n",
        "# |---- Question: Find whether there exists any linear relationship between RDSpend and Profit\n",
        "#\n",
        "# Step2: Convert the Question into Hypothesis (H0 and Ha)\n",
        "# |---- Null Hypothesis (H0) ---------------- RDSpend and Profit have NO linear Relationship\n",
        "# |---- Alternate Hypothesis (H1) ----------- RDSpend and Profit have a Linear Relationship\n",
        "#\n",
        "# Step3: Select the Statistical Test Formula/Tool to validate the hypothesis\n",
        "# |---- Test used: Pearson's Correlation test\n",
        "#\n",
        "# Step4: Select the SL | Alpha Value ==== 0.05\n",
        "# |---- SL = 0.05\n",
        "#\n",
        "# Step5: Find the p-value from the test and compare the same with SL to identify which Hypothesis is passing\n",
        "#\n",
        "# package: SciPy (Scientific Python)\n",
        "\n",
        "SL = 0.05\n",
        "\n",
        "from scipy.stats import pearsonr\n",
        "\n",
        "corr, pvalue = pearsonr( data['R&D Spend'] , data['Profit'] )\n",
        "print(f\"correlation = {corr}\")\n",
        "print(f\"p-value = {pvalue}\")\n",
        "\n",
        "if pvalue <= SL:\n",
        "  print(\"\\nAlternate Hypothesis (H1) PASSED --- RDSpend and Profit have a Linear Relationship\")\n",
        "else:\n",
        "  print(\"\\nNull Hypothesis (H0) PASSED -------- RDSpend and Profit have NO linear Relationship\")"
      ],
      "metadata": {
        "colab": {
          "base_uri": "https://localhost:8080/"
        },
        "id": "Gz4FQ4sAAWMc",
        "outputId": "cc4e4722-cb6e-4812-9c6c-4dff92d2a870"
      },
      "execution_count": 40,
      "outputs": [
        {
          "output_type": "stream",
          "name": "stdout",
          "text": [
            "correlation = 0.9729004656594831\n",
            "p-value = 3.500322243690601e-32\n",
            "\n",
            "Alternate Hypothesis (H1) PASSED --- RDSpend and Profit have a Linear Relationship\n"
          ]
        }
      ]
    },
    {
      "cell_type": "code",
      "source": [
        "SL = 0.05\n",
        "\n",
        "# Step3: Select the Statistical Test Formula/Tool to validate the hypothesis\n",
        "# |---- Test used: Spearman's Correlation test\n",
        "from scipy.stats import spearmanr\n",
        "\n",
        "corr, pvalue = spearmanr( data['R&D Spend'] , data['Profit'] )\n",
        "print(f\"correlation = {corr}\")\n",
        "print(f\"p-value = {pvalue}\")\n",
        "\n",
        "if pvalue <= SL:\n",
        "  print(\"\\nAlternate Hypothesis (H1) PASSED --- RDSpend and Profit have a Linear Relationship\")\n",
        "else:\n",
        "  print(\"\\nNull Hypothesis (H0) PASSED -------- RDSpend and Profit have NO linear Relationship\")"
      ],
      "metadata": {
        "colab": {
          "base_uri": "https://localhost:8080/"
        },
        "id": "LD7OcodXEO5t",
        "outputId": "990892c0-0dcd-43ff-9a8b-f09e01843f96"
      },
      "execution_count": 41,
      "outputs": [
        {
          "output_type": "stream",
          "name": "stdout",
          "text": [
            "correlation = 0.9898436940114568\n",
            "p-value = 2.4924463031107535e-42\n",
            "\n",
            "Alternate Hypothesis (H1) PASSED --- RDSpend and Profit have a Linear Relationship\n"
          ]
        }
      ]
    },
    {
      "cell_type": "code",
      "source": [
        "SL = 0.05\n",
        "\n",
        "# Step3: Select the Statistical Test Formula/Tool to validate the hypothesis\n",
        "# |---- Test used: Kendall Tau's Correlation test\n",
        "from scipy.stats import kendalltau\n",
        "\n",
        "corr, pvalue = kendalltau( data['R&D Spend'] , data['Profit'] )\n",
        "print(f\"correlation = {corr}\")\n",
        "print(f\"p-value = {pvalue}\")\n",
        "\n",
        "if pvalue <= SL:\n",
        "  print(\"\\nAlternate Hypothesis (H1) PASSED --- RDSpend and Profit have a Linear Relationship\")\n",
        "else:\n",
        "  print(\"\\nNull Hypothesis (H0) PASSED -------- RDSpend and Profit have NO linear Relationship\")"
      ],
      "metadata": {
        "colab": {
          "base_uri": "https://localhost:8080/"
        },
        "id": "7KNAz6KaE6eU",
        "outputId": "168a7b1a-918f-4d15-a5f6-f900e5554a4e"
      },
      "execution_count": 47,
      "outputs": [
        {
          "output_type": "stream",
          "name": "stdout",
          "text": [
            "correlation = 0.9342589590620481\n",
            "p-value = 1.0718305105857043e-21\n",
            "\n",
            "Alternate Hypothesis (H1) PASSED --- RDSpend and Profit have a Linear Relationship\n"
          ]
        }
      ]
    },
    {
      "cell_type": "markdown",
      "source": [
        "# **HOMEWORK**"
      ],
      "metadata": {
        "id": "M_Hi4-PLdmAM"
      }
    },
    {
      "cell_type": "code",
      "source": [
        "# Assignment :\n",
        "# Perform Hypothesis test to determine if there exist any linear relationship between the following:"
      ],
      "metadata": {
        "id": "AEMfUFR-E_DM"
      },
      "execution_count": 48,
      "outputs": []
    },
    {
      "cell_type": "markdown",
      "source": [
        "a. Administration and Profit"
      ],
      "metadata": {
        "id": "0rrqTQjzd2RE"
      }
    },
    {
      "cell_type": "code",
      "source": [
        "# Performing Hypothesis Testing\n",
        "#\n",
        "# Step1: Create a Viable Question\n",
        "# |---- Question: Find whether there exists any linear relationship between Administration and Profit\n",
        "#\n",
        "# Step2: Convert the Question into Hypothesis (H0 and Ha)\n",
        "# |---- Null Hypothesis (H0) --------- Administration and Profit have NO linear Relationship\n",
        "# |---- Alternate Hypothesis (H1) ---- Administration and Profit have a Linear Relationship\n",
        "#\n",
        "# Step3: Select the Statistical Test Formula / Tool to validate the hypothesis\n",
        "# |---- Test used: Pearson's Correlation test\n",
        "#\n",
        "# Step4: Select the SL | Alpha Value ==== 0.05\n",
        "# |---- SL = 0.05\n",
        "#\n",
        "# Step5: Find the p-value from the test and compare the same with SL to identify which Hypothesis is passing\n",
        "\n",
        "SL = 0.05\n",
        "\n",
        "from scipy.stats import pearsonr\n",
        "\n",
        "corr, pvalue = pearsonr( data['Administration'] , data['Profit'] )\n",
        "print(f\"correlation = {corr}\")\n",
        "print(f\"p-value = {pvalue}\")\n",
        "\n",
        "if pvalue <= SL:\n",
        "  print(\"\\nAlternate Hypothesis (H1) PASSED --- Administration and Profit have a Linear Relationship\")\n",
        "else:\n",
        "  print(\"\\nNull Hypothesis (H0) PASSED -------- Administration and Profit have NO linear Relationship\")"
      ],
      "metadata": {
        "id": "rYkrsqVKIolm",
        "colab": {
          "base_uri": "https://localhost:8080/"
        },
        "outputId": "35b58e41-79b3-42a8-8088-4c93e141e698"
      },
      "execution_count": 50,
      "outputs": [
        {
          "output_type": "stream",
          "name": "stdout",
          "text": [
            "correlation = 0.20071656826872133\n",
            "p-value = 0.16221739470358243\n",
            "\n",
            "Null Hypothesis (H0) PASSED -------- Administration and Profit have NO linear Relationship\n"
          ]
        }
      ]
    },
    {
      "cell_type": "markdown",
      "source": [
        "b. Marketing and Profit"
      ],
      "metadata": {
        "id": "e8rBA-iLespE"
      }
    },
    {
      "cell_type": "code",
      "source": [
        "# Performing Hypothesis Testing\n",
        "#\n",
        "# Step1: Create a Viable Question\n",
        "# |---- Question: Find whether there exists any linear relationship between Marketing and Profit\n",
        "#\n",
        "# Step2: Convert the Question into Hypothesis (H0 and Ha)\n",
        "# |---- Null Hypothesis (H0) -------------- Marketing and Profit have NO linear Relationship\n",
        "# |---- Alternate Hypothesis (H1) --------- Marketing and Profit have a Linear Relationship\n",
        "#\n",
        "# Step3: Select the Statistical Test Formula / Tool to validate the hypothesis\n",
        "# |---- Test used: Spearman's Correlation test\n",
        "#\n",
        "# Step4: Select the SL | Alpha Value ==== 0.05\n",
        "# |---- SL = 0.05\n",
        "#\n",
        "# Step5: Find the p-value from the test and compare the same with SL to identify which Hypothesis is passing\n",
        "\n",
        "SL = 0.05\n",
        "\n",
        "from scipy.stats import spearmanr\n",
        "\n",
        "corr, pvalue = spearmanr( data['Marketing Spend'] , data['Profit'] )\n",
        "print(f\"correlation = {corr}\")\n",
        "print(f\"p-value = {pvalue}\")\n",
        "\n",
        "if pvalue <= SL:\n",
        "  print(\"\\nAlternate Hypothesis (H1) PASSED --- Marketing Spend and Profit have a Linear Relationship\")\n",
        "else:\n",
        "  print(\"\\nNull Hypothesis (H0) PASSED -------- Marketing Spend and Profit have NO linear Relationship\")"
      ],
      "metadata": {
        "colab": {
          "base_uri": "https://localhost:8080/"
        },
        "id": "0UInROjQeNh9",
        "outputId": "177464d7-ef53-4af3-f349-4167782284cc"
      },
      "execution_count": 51,
      "outputs": [
        {
          "output_type": "stream",
          "name": "stdout",
          "text": [
            "correlation = 0.7213658007628816\n",
            "p-value = 3.427708762592184e-09\n",
            "\n",
            "Alternate Hypothesis (H1) PASSED --- Marketing Spend and Profit have a Linear Relationship\n"
          ]
        }
      ]
    },
    {
      "cell_type": "code",
      "source": [],
      "metadata": {
        "id": "JfGqF5Trg5Tx"
      },
      "execution_count": 45,
      "outputs": []
    }
  ]
}