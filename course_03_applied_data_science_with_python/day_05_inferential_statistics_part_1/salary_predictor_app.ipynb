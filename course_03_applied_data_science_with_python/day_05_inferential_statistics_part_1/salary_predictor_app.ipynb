{
  "nbformat": 4,
  "nbformat_minor": 0,
  "metadata": {
    "colab": {
      "provenance": []
    },
    "kernelspec": {
      "name": "python3",
      "display_name": "Python 3"
    },
    "language_info": {
      "name": "python"
    }
  },
  "cells": [
    {
      "cell_type": "markdown",
      "source": [
        "**Salary Prediction Application**"
      ],
      "metadata": {
        "id": "6nPRHey3FhYT"
      }
    },
    {
      "cell_type": "code",
      "execution_count": 8,
      "metadata": {
        "colab": {
          "base_uri": "https://localhost:8080/"
        },
        "id": "dZ1gtuqM1FTV",
        "outputId": "d6bfcd9e-5fbf-4a41-df9b-2afc8f9e3e71"
      },
      "outputs": [
        {
          "output_type": "stream",
          "name": "stdout",
          "text": [
            "Enter years of Experience: 4.5\n",
            "Predicted Salary is $68194.98\n"
          ]
        }
      ],
      "source": [
        "import pickle\n",
        "import numpy as np\n",
        "\n",
        "model = pickle.load(open('salary_predictor.mdl','rb'))\n",
        "\n",
        "yExp = float(input(\"Enter years of Experience: \"))\n",
        "\n",
        "predictedSalary = model.predict(np.array([[yExp]]))\n",
        "predictedSalary = round(predictedSalary[0][0], 2)\n",
        "\n",
        "print(\"Predicted Salary is ${}\".format(predictedSalary))"
      ]
    },
    {
      "cell_type": "code",
      "source": [],
      "metadata": {
        "id": "v06LAHfG1ezr"
      },
      "execution_count": null,
      "outputs": []
    }
  ]
}